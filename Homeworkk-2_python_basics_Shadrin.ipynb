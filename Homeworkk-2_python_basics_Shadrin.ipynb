{
 "cells": [
  {
   "cell_type": "markdown",
   "metadata": {},
   "source": [
    "**Задание 1**. Даны 2 строки: *long_phrase* и *short_phrase*. \n",
    "Напишите код, который проверяет действительно ли длинная фраза *long_phrase* длиннее короткой *short_phrase*. И выводит *True* или *False* в зависимости от результата сравнения."
   ]
  },
  {
   "cell_type": "code",
   "execution_count": 12,
   "metadata": {},
   "outputs": [
    {
     "data": {
      "text/plain": [
       "True"
      ]
     },
     "execution_count": 12,
     "metadata": {},
     "output_type": "execute_result"
    }
   ],
   "source": [
    "long_phrase = 'Насколько проще было бы писать программы, если бы не заказчики'\n",
    "short_phrase = '640Кб должно хватить для любых задач. Билл Гейтс (по легенде)'\n",
    "len(long_phrase) > len(short_phrase)"
   ]
  },
  {
   "cell_type": "markdown",
   "metadata": {},
   "source": [
    "**Задание 2**. Дано значение объема файла в байтах (*в мегабайте 2^20 байт*). Напишите перевод этого значения в мегабайты в формате: \"*Объем файла равен 213.68Mb*\"."
   ]
  },
  {
   "cell_type": "code",
   "execution_count": 12,
   "metadata": {},
   "outputs": [
    {
     "name": "stdout",
     "output_type": "stream",
     "text": [
      "Объем файла равен 19.07 MB\n"
     ]
    }
   ],
   "source": [
    "byte = 20000000\n",
    "megabyte = byte / 1048576\n",
    "megabyte = float('{:.2f}'.format(megabyte))\n",
    "print (\"Объем файла равен\", megabyte,\"MB\")"
   ]
  },
  {
   "cell_type": "markdown",
   "metadata": {},
   "source": [
    "**Задание 3**. Разработать приложение для определения знака зодиака по дате рождения. Пример:\n",
    "\n",
    "Введите месяц: март\n",
    "\n",
    "Введите число: 6\n",
    "\n",
    "Вывод:\n",
    "Рыбы"
   ]
  },
  {
   "cell_type": "code",
   "execution_count": null,
   "metadata": {
    "scrolled": true
   },
   "outputs": [],
   "source": [
    "date = int (input(\"Введите число \"))\n",
    "month = input(\"Введите месяц \")\n",
    "if 21 < date < 32 and month == \"Декабрь\":\n",
    "    print(\"Козерог\")\n",
    "elif 0 < date < 21 and month == \"Январь\":\n",
    "    print(\"Козерог\")\n",
    "if 20 < date < 32 and month == \"Январь\":\n",
    "    print(\"Водолей\")\n",
    "elif 0 < date < 19 and month == \"Февраль\":\n",
    "    print(\"Водолей\")\n",
    "if 18 < date < 32 and month == \"Февраль\":\n",
    "    print(\"Рыбы\")\n",
    "elif 0 < date < 21 and month == \"Март\":\n",
    "    print(\"Рыбы\")\n",
    "if 20 < date < 32 and month == \"Март\":\n",
    "    print(\"Овен\")\n",
    "elif 0 < date < 21 and month == \"Апрель\":\n",
    "    print(\"Овен\")\n",
    "if 20 < date < 32 and month == \"Апрель\":\n",
    "    print(\"Телец\")\n",
    "elif 0 < date < 21 and month == \"Май\":\n",
    "    print(\"Телец\")\n",
    "if 20 < date < 32 and month == \"Май\":\n",
    "    print(\"Близнецы\")\n",
    "elif 0 < date < 22 and month == \"Июнь\":\n",
    "    print(\"Близнецы\")\n",
    "if 21 < date < 32 and month == \"Июнь\":\n",
    "    print(\"Рак\")\n",
    "elif 0 < date < 23 and month == \"Июль\":\n",
    "    print(\"Рак\")\n",
    "if 22 < date < 32 and month == \"Июль\":\n",
    "    print(\"Лев\")\n",
    "elif 0 < date < 24 and month == \"Август\":\n",
    "    print(\"Лев\")\n",
    "if 23 < date < 32 and month == \"Август\":\n",
    "    print(\"Дева\")\n",
    "elif 0 < date < 24 and month == \"Сентябрь\":\n",
    "    print(\"Дева\")\n",
    "if 23 < date < 32 and month == \"Сентябрь\":\n",
    "    print(\"Весы\")\n",
    "elif 0 < date < 24 and month == \"Октябрь\":\n",
    "    print(\"Весы\")\n",
    "if 23 < date < 32 and month == \"Октябрь\":\n",
    "    print(\"Скорпион\")\n",
    "elif 0 < date < 23 and month == \"Ноябрь\":\n",
    "    print(\"Скорпион\")\n",
    "if 22 < date < 32 and month == \"Ноябрь\":\n",
    "    print(\"Стрелец\")\n",
    "elif 0 < date < 22 and month == \"Декабрь\":\n",
    "    print(\"Стрелец\")"
   ]
  },
  {
   "cell_type": "markdown",
   "metadata": {},
   "source": [
    "**Задание 4**. Нужно разработать приложение для финансового планирования.\n",
    "Приложение учитывает сколько уходит на ипотеку, \"на жизнь\" и сколько нужно отложить на пенсию.\n",
    "Пользователь вводит:\n",
    "- заработанную плату в месяц.\n",
    "- сколько процентов от ЗП уходит на ипотеку.\n",
    "- сколько процентов от ЗП уходит \"на жизнь\".\n",
    "- сколько раз приходит премия в год.\n",
    "\n",
    "Остальная часть заработанной платы откладывается на пенсию.\n",
    "\n",
    "Также пользователю приходит премия в размере зарплаты, от которой половина уходит на отпуск, а вторая половина откладывается.\n",
    "\n",
    "Программа должна учитывать сколько премий было в год.\n",
    "\n",
    "Нужно вывести сколько денег тратит пользователь на ипотеку и сколько он накопит за год.\n",
    "\n",
    "Пример:\n",
    "\n",
    "Введите заработанную плату в месяц: 100000\n",
    "\n",
    "Введите сколько процентов уходит на ипотеку: 30\n",
    "\n",
    "Введите сколько процентов уходит на жизнь: 50\n",
    "\n",
    "Введите количество премий за год: 2\n",
    "\n",
    "Вывод:\n",
    "На ипотеку было потрачено: 360000 рублей\n",
    "Было накоплено: 340000 рублей"
   ]
  },
  {
   "cell_type": "code",
   "execution_count": null,
   "metadata": {},
   "outputs": [],
   "source": [
    "salary = int (input(\"Введите размер зарплаты \"))\n",
    "mortgage = int (input(\"Процент от ЗП на ипотеку \"))\n",
    "reallife = int (input(\"Процент от ЗП на жизнь \"))\n",
    "premium = int (input(\"Количество премий в год \"))\n",
    "mortgage_amount = int (((salary * 12) * mortgage) / 100)\n",
    "reallife_amount = int (((salary * 12) * reallife) / 100)\n",
    "premium_amount_for_the_rest = (salary * premium) / 2\n",
    "rest_for_the_year = int ((salary * 12) - mortgage_amount - reallife_amount + premium_amount_for_the_rest)\n",
    "print (\"На ипотеку было потрачено: \", mortgage_amount, \"руб.\", \"Было накоплено: \", rest_for_the_year, \"руб.\")"
   ]
  },
  {
   "cell_type": "code",
   "execution_count": null,
   "metadata": {},
   "outputs": [],
   "source": []
  }
 ],
 "metadata": {
  "kernelspec": {
   "display_name": "Python 3",
   "language": "python",
   "name": "python3"
  },
  "language_info": {
   "codemirror_mode": {
    "name": "ipython",
    "version": 3
   },
   "file_extension": ".py",
   "mimetype": "text/x-python",
   "name": "python",
   "nbconvert_exporter": "python",
   "pygments_lexer": "ipython3",
   "version": "3.7.6"
  }
 },
 "nbformat": 4,
 "nbformat_minor": 2
}
